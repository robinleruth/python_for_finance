{
 "cells": [
  {
   "cell_type": "code",
   "execution_count": 1,
   "metadata": {},
   "outputs": [],
   "source": [
    "from math import log, sqrt, exp\n",
    "from scipy import stats"
   ]
  },
  {
   "cell_type": "code",
   "execution_count": 2,
   "metadata": {},
   "outputs": [],
   "source": [
    "def bsm_call_value(S0, K, T, r, sigma):\n",
    "    ''' Valuation of European call option in BSM model.\n",
    "    Analytical formula.\n",
    "    Parameters\n",
    "    ==========\n",
    "    S0 : float\n",
    "    initial stock/index level\n",
    "    K : float\n",
    "    strike price\n",
    "    T : float\n",
    "    maturity date (in year fractions)\n",
    "    r : float\n",
    "    constant risk-free short rate\n",
    "    sigma : float\n",
    "    volatility factor in diffusion term\n",
    "    Returns\n",
    "    =======\n",
    "    value : float\n",
    "    present value of the European call option\n",
    "    '''\n",
    "    \n",
    "    S0 = float(S0)\n",
    "    d1 = (log(S0 / K) + (r + 0.5 * sigma ** 2) * T / (sigma * sqrt(T)))\n",
    "    d2 = (log(S0 / K) + (r - 0.5 * sigma ** 2) * T / (sigma * sqrt(T)))\n",
    "    value = (S0 * stats.norm.cdf(d1, 0.0, 1.0) \n",
    "            - K * exp(-r * T) * stats.norm.cdf(d2, 0.0, 1.0))\n",
    "    # stats.norm.cdf -> cumulative distribution function for normal distribution\n",
    "    return value"
   ]
  },
  {
   "cell_type": "code",
   "execution_count": 3,
   "metadata": {},
   "outputs": [],
   "source": [
    "def bsm_vega(S0, K, T, r, sigma):\n",
    "    ''' Vega of European option in BSM Model.\n",
    "    Parameters\n",
    "    ==========\n",
    "    S0 : float\n",
    "    initial stock/index level\n",
    "    K : float\n",
    "    strike price\n",
    "    T : float\n",
    "    maturity date (in year fractions)\n",
    "    r : float\n",
    "    constant risk-free short rate\n",
    "    sigma : float\n",
    "    volatility factor in diffusion term\n",
    "    Returns\n",
    "    =======\n",
    "    vega : float\n",
    "    partial derivative of BSM formula with respect\n",
    "    to sigma, i.e. Vega\n",
    "    '''\n",
    "    S0 = float(S0)\n",
    "    d1 = (log(S0 / K) + (r + 0.5 * sigma ** 2) * T / (sigma * sqrt(T)))\n",
    "    vega = S0 * stats.norm.cdf(d1, 0.0, 1.0) * sqrt(T)\n",
    "    return vega"
   ]
  },
  {
   "cell_type": "code",
   "execution_count": 4,
   "metadata": {},
   "outputs": [],
   "source": [
    "def bsm_call_imp_vol(SO, K, T, r, C0, sigma_est, it=100):\n",
    "    ''' Implied Volatility of European call option in BSM Model.\n",
    "    Parameters\n",
    "    ==========\n",
    "    S0 : float\n",
    "    initial stock/index level\n",
    "    K : float\n",
    "    strike price\n",
    "    T : float\n",
    "    maturity date (in year fractions)\n",
    "    r : float\n",
    "    constant risk-free short rate\n",
    "    sigma_est : float\n",
    "    estimate of impl. volatility\n",
    "    it : integer\n",
    "    number of iterations\n",
    "    Returns\n",
    "    =======\n",
    "    simga_est : float\n",
    "    numerically estimated implied volatility\n",
    "    '''\n",
    "    for i in range(it):\n",
    "        sigma_est -= ((bsm_call_value(S0, K, T, r, sigma_est) - C0)\n",
    "                     / bsm_vega(SO, K, T, r, sigma_est))\n",
    "        return sigma_est"
   ]
  },
  {
   "cell_type": "markdown",
   "metadata": {},
   "source": [
    "# All we need now is the option quotes for European call options"
   ]
  },
  {
   "cell_type": "code",
   "execution_count": null,
   "metadata": {},
   "outputs": [],
   "source": []
  }
 ],
 "metadata": {
  "kernelspec": {
   "display_name": "Python 3",
   "language": "python",
   "name": "python3"
  },
  "language_info": {
   "codemirror_mode": {
    "name": "ipython",
    "version": 3
   },
   "file_extension": ".py",
   "mimetype": "text/x-python",
   "name": "python",
   "nbconvert_exporter": "python",
   "pygments_lexer": "ipython3",
   "version": "3.7.0"
  }
 },
 "nbformat": 4,
 "nbformat_minor": 2
}
